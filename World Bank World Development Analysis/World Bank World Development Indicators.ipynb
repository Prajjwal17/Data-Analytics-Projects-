{
 "cells": [
  {
   "cell_type": "code",
   "execution_count": 5,
   "id": "4b431680-56fe-4268-a704-a201aee12416",
   "metadata": {},
   "outputs": [],
   "source": [
    "import numpy as np\n",
    "import pandas as pd\n",
    "import matplotlib.pyplot as plt\n",
    "import seaborn as sns\n",
    "from sklearn.linear_model import LinearRegression\n",
    "\n",
    "import os"
   ]
  },
  {
   "cell_type": "code",
   "execution_count": 13,
   "id": "8d63c7de-1377-4b2d-8702-7e7087ac98b9",
   "metadata": {},
   "outputs": [
    {
     "name": "stderr",
     "output_type": "stream",
     "text": [
      "C:\\Users\\HURSH\\AppData\\Local\\Temp\\ipykernel_66720\\730454181.py:2: UserWarning: Could not infer format, so each element will be parsed individually, falling back to `dateutil`. To ensure parsing is consistent and as-expected, please specify a format.\n",
      "  data = pd.read_csv(filepath, index_col=[\"country\", \"date\"], parse_dates=True)\n"
     ]
    },
    {
     "data": {
      "text/html": [
       "<div>\n",
       "<style scoped>\n",
       "    .dataframe tbody tr th:only-of-type {\n",
       "        vertical-align: middle;\n",
       "    }\n",
       "\n",
       "    .dataframe tbody tr th {\n",
       "        vertical-align: top;\n",
       "    }\n",
       "\n",
       "    .dataframe thead th {\n",
       "        text-align: right;\n",
       "    }\n",
       "</style>\n",
       "<table border=\"1\" class=\"dataframe\">\n",
       "  <thead>\n",
       "    <tr style=\"text-align: right;\">\n",
       "      <th></th>\n",
       "      <th></th>\n",
       "      <th>agricultural_land%</th>\n",
       "      <th>forest_land%</th>\n",
       "      <th>land_area</th>\n",
       "      <th>avg_precipitation</th>\n",
       "      <th>trade_in_services%</th>\n",
       "      <th>control_of_corruption_estimate</th>\n",
       "      <th>control_of_corruption_std</th>\n",
       "      <th>access_to_electricity%</th>\n",
       "      <th>renewvable_energy_consumption%</th>\n",
       "      <th>electric_power_consumption</th>\n",
       "      <th>...</th>\n",
       "      <th>multidimensional_poverty_headcount_ratio%</th>\n",
       "      <th>gini_index</th>\n",
       "      <th>birth_rate</th>\n",
       "      <th>death_rate</th>\n",
       "      <th>life_expectancy_at_birth</th>\n",
       "      <th>population</th>\n",
       "      <th>rural_population</th>\n",
       "      <th>voice_and_accountability_estimate</th>\n",
       "      <th>voice_and_accountability_std</th>\n",
       "      <th>intentional_homicides</th>\n",
       "    </tr>\n",
       "    <tr>\n",
       "      <th>country</th>\n",
       "      <th>date</th>\n",
       "      <th></th>\n",
       "      <th></th>\n",
       "      <th></th>\n",
       "      <th></th>\n",
       "      <th></th>\n",
       "      <th></th>\n",
       "      <th></th>\n",
       "      <th></th>\n",
       "      <th></th>\n",
       "      <th></th>\n",
       "      <th></th>\n",
       "      <th></th>\n",
       "      <th></th>\n",
       "      <th></th>\n",
       "      <th></th>\n",
       "      <th></th>\n",
       "      <th></th>\n",
       "      <th></th>\n",
       "      <th></th>\n",
       "      <th></th>\n",
       "      <th></th>\n",
       "    </tr>\n",
       "  </thead>\n",
       "  <tbody>\n",
       "    <tr>\n",
       "      <th rowspan=\"5\" valign=\"top\">Afghanistan</th>\n",
       "      <th>1960-01-01</th>\n",
       "      <td>NaN</td>\n",
       "      <td>NaN</td>\n",
       "      <td>NaN</td>\n",
       "      <td>NaN</td>\n",
       "      <td>NaN</td>\n",
       "      <td>NaN</td>\n",
       "      <td>NaN</td>\n",
       "      <td>NaN</td>\n",
       "      <td>NaN</td>\n",
       "      <td>NaN</td>\n",
       "      <td>...</td>\n",
       "      <td>NaN</td>\n",
       "      <td>NaN</td>\n",
       "      <td>50.340</td>\n",
       "      <td>31.921</td>\n",
       "      <td>32.535</td>\n",
       "      <td>8622466.0</td>\n",
       "      <td>7898093.0</td>\n",
       "      <td>NaN</td>\n",
       "      <td>NaN</td>\n",
       "      <td>NaN</td>\n",
       "    </tr>\n",
       "    <tr>\n",
       "      <th>1961-01-01</th>\n",
       "      <td>57.801696</td>\n",
       "      <td>NaN</td>\n",
       "      <td>652230.0</td>\n",
       "      <td>327.0</td>\n",
       "      <td>NaN</td>\n",
       "      <td>NaN</td>\n",
       "      <td>NaN</td>\n",
       "      <td>NaN</td>\n",
       "      <td>NaN</td>\n",
       "      <td>NaN</td>\n",
       "      <td>...</td>\n",
       "      <td>NaN</td>\n",
       "      <td>NaN</td>\n",
       "      <td>50.443</td>\n",
       "      <td>31.349</td>\n",
       "      <td>33.068</td>\n",
       "      <td>8790140.0</td>\n",
       "      <td>8026804.0</td>\n",
       "      <td>NaN</td>\n",
       "      <td>NaN</td>\n",
       "      <td>NaN</td>\n",
       "    </tr>\n",
       "    <tr>\n",
       "      <th>1962-01-01</th>\n",
       "      <td>57.893688</td>\n",
       "      <td>NaN</td>\n",
       "      <td>652230.0</td>\n",
       "      <td>327.0</td>\n",
       "      <td>NaN</td>\n",
       "      <td>NaN</td>\n",
       "      <td>NaN</td>\n",
       "      <td>NaN</td>\n",
       "      <td>NaN</td>\n",
       "      <td>NaN</td>\n",
       "      <td>...</td>\n",
       "      <td>NaN</td>\n",
       "      <td>NaN</td>\n",
       "      <td>50.570</td>\n",
       "      <td>30.845</td>\n",
       "      <td>33.547</td>\n",
       "      <td>8969047.0</td>\n",
       "      <td>8163985.0</td>\n",
       "      <td>NaN</td>\n",
       "      <td>NaN</td>\n",
       "      <td>NaN</td>\n",
       "    </tr>\n",
       "    <tr>\n",
       "      <th>1963-01-01</th>\n",
       "      <td>57.970348</td>\n",
       "      <td>NaN</td>\n",
       "      <td>652230.0</td>\n",
       "      <td>327.0</td>\n",
       "      <td>NaN</td>\n",
       "      <td>NaN</td>\n",
       "      <td>NaN</td>\n",
       "      <td>NaN</td>\n",
       "      <td>NaN</td>\n",
       "      <td>NaN</td>\n",
       "      <td>...</td>\n",
       "      <td>NaN</td>\n",
       "      <td>NaN</td>\n",
       "      <td>50.703</td>\n",
       "      <td>30.359</td>\n",
       "      <td>34.016</td>\n",
       "      <td>9157465.0</td>\n",
       "      <td>8308019.0</td>\n",
       "      <td>NaN</td>\n",
       "      <td>NaN</td>\n",
       "      <td>NaN</td>\n",
       "    </tr>\n",
       "    <tr>\n",
       "      <th>1964-01-01</th>\n",
       "      <td>58.066940</td>\n",
       "      <td>NaN</td>\n",
       "      <td>652230.0</td>\n",
       "      <td>327.0</td>\n",
       "      <td>NaN</td>\n",
       "      <td>NaN</td>\n",
       "      <td>NaN</td>\n",
       "      <td>NaN</td>\n",
       "      <td>NaN</td>\n",
       "      <td>NaN</td>\n",
       "      <td>...</td>\n",
       "      <td>NaN</td>\n",
       "      <td>NaN</td>\n",
       "      <td>50.831</td>\n",
       "      <td>29.867</td>\n",
       "      <td>34.494</td>\n",
       "      <td>9355514.0</td>\n",
       "      <td>8458694.0</td>\n",
       "      <td>NaN</td>\n",
       "      <td>NaN</td>\n",
       "      <td>NaN</td>\n",
       "    </tr>\n",
       "  </tbody>\n",
       "</table>\n",
       "<p>5 rows × 48 columns</p>\n",
       "</div>"
      ],
      "text/plain": [
       "                        agricultural_land%  forest_land%  land_area  \\\n",
       "country     date                                                      \n",
       "Afghanistan 1960-01-01                 NaN           NaN        NaN   \n",
       "            1961-01-01           57.801696           NaN   652230.0   \n",
       "            1962-01-01           57.893688           NaN   652230.0   \n",
       "            1963-01-01           57.970348           NaN   652230.0   \n",
       "            1964-01-01           58.066940           NaN   652230.0   \n",
       "\n",
       "                        avg_precipitation  trade_in_services%  \\\n",
       "country     date                                                \n",
       "Afghanistan 1960-01-01                NaN                 NaN   \n",
       "            1961-01-01              327.0                 NaN   \n",
       "            1962-01-01              327.0                 NaN   \n",
       "            1963-01-01              327.0                 NaN   \n",
       "            1964-01-01              327.0                 NaN   \n",
       "\n",
       "                        control_of_corruption_estimate  \\\n",
       "country     date                                         \n",
       "Afghanistan 1960-01-01                             NaN   \n",
       "            1961-01-01                             NaN   \n",
       "            1962-01-01                             NaN   \n",
       "            1963-01-01                             NaN   \n",
       "            1964-01-01                             NaN   \n",
       "\n",
       "                        control_of_corruption_std  access_to_electricity%  \\\n",
       "country     date                                                            \n",
       "Afghanistan 1960-01-01                        NaN                     NaN   \n",
       "            1961-01-01                        NaN                     NaN   \n",
       "            1962-01-01                        NaN                     NaN   \n",
       "            1963-01-01                        NaN                     NaN   \n",
       "            1964-01-01                        NaN                     NaN   \n",
       "\n",
       "                        renewvable_energy_consumption%  \\\n",
       "country     date                                         \n",
       "Afghanistan 1960-01-01                             NaN   \n",
       "            1961-01-01                             NaN   \n",
       "            1962-01-01                             NaN   \n",
       "            1963-01-01                             NaN   \n",
       "            1964-01-01                             NaN   \n",
       "\n",
       "                        electric_power_consumption  ...  \\\n",
       "country     date                                    ...   \n",
       "Afghanistan 1960-01-01                         NaN  ...   \n",
       "            1961-01-01                         NaN  ...   \n",
       "            1962-01-01                         NaN  ...   \n",
       "            1963-01-01                         NaN  ...   \n",
       "            1964-01-01                         NaN  ...   \n",
       "\n",
       "                        multidimensional_poverty_headcount_ratio%  gini_index  \\\n",
       "country     date                                                                \n",
       "Afghanistan 1960-01-01                                        NaN         NaN   \n",
       "            1961-01-01                                        NaN         NaN   \n",
       "            1962-01-01                                        NaN         NaN   \n",
       "            1963-01-01                                        NaN         NaN   \n",
       "            1964-01-01                                        NaN         NaN   \n",
       "\n",
       "                        birth_rate  death_rate  life_expectancy_at_birth  \\\n",
       "country     date                                                           \n",
       "Afghanistan 1960-01-01      50.340      31.921                    32.535   \n",
       "            1961-01-01      50.443      31.349                    33.068   \n",
       "            1962-01-01      50.570      30.845                    33.547   \n",
       "            1963-01-01      50.703      30.359                    34.016   \n",
       "            1964-01-01      50.831      29.867                    34.494   \n",
       "\n",
       "                        population  rural_population  \\\n",
       "country     date                                       \n",
       "Afghanistan 1960-01-01   8622466.0         7898093.0   \n",
       "            1961-01-01   8790140.0         8026804.0   \n",
       "            1962-01-01   8969047.0         8163985.0   \n",
       "            1963-01-01   9157465.0         8308019.0   \n",
       "            1964-01-01   9355514.0         8458694.0   \n",
       "\n",
       "                        voice_and_accountability_estimate  \\\n",
       "country     date                                            \n",
       "Afghanistan 1960-01-01                                NaN   \n",
       "            1961-01-01                                NaN   \n",
       "            1962-01-01                                NaN   \n",
       "            1963-01-01                                NaN   \n",
       "            1964-01-01                                NaN   \n",
       "\n",
       "                        voice_and_accountability_std  intentional_homicides  \n",
       "country     date                                                             \n",
       "Afghanistan 1960-01-01                           NaN                    NaN  \n",
       "            1961-01-01                           NaN                    NaN  \n",
       "            1962-01-01                           NaN                    NaN  \n",
       "            1963-01-01                           NaN                    NaN  \n",
       "            1964-01-01                           NaN                    NaN  \n",
       "\n",
       "[5 rows x 48 columns]"
      ]
     },
     "execution_count": 13,
     "metadata": {},
     "output_type": "execute_result"
    }
   ],
   "source": [
    "filepath = r\"E:\\world_bank_development_indicators.csv\"\n",
    "data = pd.read_csv(filepath, index_col=[\"country\", \"date\"], parse_dates=True)\n",
    "data.head()"
   ]
  },
  {
   "cell_type": "code",
   "execution_count": 14,
   "id": "155129ad-41d8-4aaa-ba16-3c1eec91e6ea",
   "metadata": {},
   "outputs": [
    {
     "name": "stderr",
     "output_type": "stream",
     "text": [
      "C:\\Users\\HURSH\\AppData\\Local\\Temp\\ipykernel_66720\\2094043226.py:1: UserWarning: Could not infer format, so each element will be parsed individually, falling back to `dateutil`. To ensure parsing is consistent and as-expected, please specify a format.\n",
      "  gdp = pd.read_csv(filepath, index_col=[\"country\", \"date\"], usecols=[\"country\", \"date\", \"GDP_current_US\"], parse_dates=True)\n"
     ]
    },
    {
     "data": {
      "text/html": [
       "<div>\n",
       "<style scoped>\n",
       "    .dataframe tbody tr th:only-of-type {\n",
       "        vertical-align: middle;\n",
       "    }\n",
       "\n",
       "    .dataframe tbody tr th {\n",
       "        vertical-align: top;\n",
       "    }\n",
       "\n",
       "    .dataframe thead th {\n",
       "        text-align: right;\n",
       "    }\n",
       "</style>\n",
       "<table border=\"1\" class=\"dataframe\">\n",
       "  <thead>\n",
       "    <tr style=\"text-align: right;\">\n",
       "      <th></th>\n",
       "      <th></th>\n",
       "      <th>GDP_current_US</th>\n",
       "    </tr>\n",
       "    <tr>\n",
       "      <th>country</th>\n",
       "      <th>date</th>\n",
       "      <th></th>\n",
       "    </tr>\n",
       "  </thead>\n",
       "  <tbody>\n",
       "    <tr>\n",
       "      <th rowspan=\"5\" valign=\"top\">Afghanistan</th>\n",
       "      <th>1960-01-01</th>\n",
       "      <td>5.377778e+08</td>\n",
       "    </tr>\n",
       "    <tr>\n",
       "      <th>1961-01-01</th>\n",
       "      <td>5.488889e+08</td>\n",
       "    </tr>\n",
       "    <tr>\n",
       "      <th>1962-01-01</th>\n",
       "      <td>5.466667e+08</td>\n",
       "    </tr>\n",
       "    <tr>\n",
       "      <th>1963-01-01</th>\n",
       "      <td>7.511112e+08</td>\n",
       "    </tr>\n",
       "    <tr>\n",
       "      <th>1964-01-01</th>\n",
       "      <td>8.000000e+08</td>\n",
       "    </tr>\n",
       "  </tbody>\n",
       "</table>\n",
       "</div>"
      ],
      "text/plain": [
       "                        GDP_current_US\n",
       "country     date                      \n",
       "Afghanistan 1960-01-01    5.377778e+08\n",
       "            1961-01-01    5.488889e+08\n",
       "            1962-01-01    5.466667e+08\n",
       "            1963-01-01    7.511112e+08\n",
       "            1964-01-01    8.000000e+08"
      ]
     },
     "execution_count": 14,
     "metadata": {},
     "output_type": "execute_result"
    }
   ],
   "source": [
    "gdp = pd.read_csv(filepath, index_col=[\"country\", \"date\"], usecols=[\"country\", \"date\", \"GDP_current_US\"], parse_dates=True)\n",
    "gdp.head()"
   ]
  },
  {
   "cell_type": "code",
   "execution_count": 15,
   "id": "dbda1ff2-6e85-4091-bd7a-37200e670c6f",
   "metadata": {},
   "outputs": [
    {
     "data": {
      "text/html": [
       "<div>\n",
       "<style scoped>\n",
       "    .dataframe tbody tr th:only-of-type {\n",
       "        vertical-align: middle;\n",
       "    }\n",
       "\n",
       "    .dataframe tbody tr th {\n",
       "        vertical-align: top;\n",
       "    }\n",
       "\n",
       "    .dataframe thead th {\n",
       "        text-align: right;\n",
       "    }\n",
       "</style>\n",
       "<table border=\"1\" class=\"dataframe\">\n",
       "  <thead>\n",
       "    <tr style=\"text-align: right;\">\n",
       "      <th></th>\n",
       "      <th>GDP_current_US</th>\n",
       "    </tr>\n",
       "    <tr>\n",
       "      <th>date</th>\n",
       "      <th></th>\n",
       "    </tr>\n",
       "  </thead>\n",
       "  <tbody>\n",
       "    <tr>\n",
       "      <th>1960-01-01</th>\n",
       "      <td>5.377778e+08</td>\n",
       "    </tr>\n",
       "    <tr>\n",
       "      <th>1961-01-01</th>\n",
       "      <td>5.488889e+08</td>\n",
       "    </tr>\n",
       "    <tr>\n",
       "      <th>1962-01-01</th>\n",
       "      <td>5.466667e+08</td>\n",
       "    </tr>\n",
       "    <tr>\n",
       "      <th>1963-01-01</th>\n",
       "      <td>7.511112e+08</td>\n",
       "    </tr>\n",
       "    <tr>\n",
       "      <th>1964-01-01</th>\n",
       "      <td>8.000000e+08</td>\n",
       "    </tr>\n",
       "  </tbody>\n",
       "</table>\n",
       "</div>"
      ],
      "text/plain": [
       "            GDP_current_US\n",
       "date                      \n",
       "1960-01-01    5.377778e+08\n",
       "1961-01-01    5.488889e+08\n",
       "1962-01-01    5.466667e+08\n",
       "1963-01-01    7.511112e+08\n",
       "1964-01-01    8.000000e+08"
      ]
     },
     "execution_count": 15,
     "metadata": {},
     "output_type": "execute_result"
    }
   ],
   "source": [
    "afg_gdp = gdp.loc[\"Afghanistan\"]\n",
    "afg_gdp.head()"
   ]
  },
  {
   "cell_type": "code",
   "execution_count": 17,
   "id": "fa611fb5-5746-4634-b89a-18057ab2c285",
   "metadata": {},
   "outputs": [
    {
     "name": "stdout",
     "output_type": "stream",
     "text": [
      "Missing Values for Afganistan: GDP_current_US    21\n",
      "dtype: int64\n"
     ]
    }
   ],
   "source": [
    "print(\"Missing Values for Afganistan:\", afg_gdp.isna().sum())"
   ]
  },
  {
   "cell_type": "code",
   "execution_count": 18,
   "id": "6ec58860-f203-4f55-a43b-de2cb7ede887",
   "metadata": {},
   "outputs": [
    {
     "name": "stdout",
     "output_type": "stream",
     "text": [
      "Missing values for Afganistan: GDP_current_US    0\n",
      "dtype: int64\n"
     ]
    }
   ],
   "source": [
    "afg_gdp = afg_gdp.ffill()\n",
    "print(\"Missing values for Afganistan:\", afg_gdp.isna().sum())"
   ]
  },
  {
   "cell_type": "code",
   "execution_count": 19,
   "id": "ef8258f9-7411-4758-99c7-8e669d0d00b4",
   "metadata": {},
   "outputs": [
    {
     "data": {
      "text/plain": [
       "<Axes: xlabel='date', ylabel='GDP_current_US'>"
      ]
     },
     "execution_count": 19,
     "metadata": {},
     "output_type": "execute_result"
    },
    {
     "data": {
      "image/png": "[encoded data removed]",
      "text/plain": [
       "<Figure size 640x480 with 1 Axes>"
      ]
     },
     "metadata": {},
     "output_type": "display_data"
    }
   ],
   "source": [
    "sns.lineplot(x=afg_gdp.index, y=afg_gdp.GDP_current_US)"
   ]
  },
  {
   "cell_type": "code",
   "execution_count": 24,
   "id": "9bff07ae-4f08-4aeb-8613-8bf460e3f8be",
   "metadata": {},
   "outputs": [],
   "source": [
    "afg_gdp = np.log(afg_gdp)\n",
    "afg_gdp = afg_gdp.rename(columns={\"GDP_current_US\": \"log(GDP_current_US)\"})"
   ]
  },
  {
   "cell_type": "code",
   "execution_count": 25,
   "id": "7cffcc47-f490-46af-b4a8-add4a13dc640",
   "metadata": {},
   "outputs": [
    {
     "data": {
      "text/plain": [
       "<Axes: xlabel='date', ylabel='log(GDP_current_US)'>"
      ]
     },
     "execution_count": 25,
     "metadata": {},
     "output_type": "execute_result"
    },
    {
     "data": {
      "image/png": "[encoded data removed]",
      "text/plain": [
       "<Figure size 640x480 with 1 Axes>"
      ]
     },
     "metadata": {},
     "output_type": "display_data"
    }
   ],
   "source": [
    "sns.lineplot(x=afg_gdp.index, y=afg_gdp.loc[:, \"log(GDP_current_US)\"])"
   ]
  },
  {
   "cell_type": "code",
   "execution_count": 30,
   "id": "7b2f6205-338c-4c0f-b5d3-f605918f86b8",
   "metadata": {},
   "outputs": [
    {
     "ename": "ValueError",
     "evalue": "Columns must be same length as key",
     "output_type": "error",
     "traceback": [
      "\u001b[1;31m---------------------------------------------------------------------------\u001b[0m",
      "\u001b[1;31mValueError\u001b[0m                                Traceback (most recent call last)",
      "\u001b[1;32m~\\AppData\\Local\\Temp\\ipykernel_66720\\70764391.py\u001b[0m in \u001b[0;36m?\u001b[1;34m()\u001b[0m\n\u001b[1;32m----> 1\u001b[1;33m \u001b[0mafg_gdp\u001b[0m\u001b[1;33m[\u001b[0m\u001b[1;34m\"prev_log(GDP_current_US)\"\u001b[0m\u001b[1;33m]\u001b[0m \u001b[1;33m=\u001b[0m \u001b[0mafg_gdp\u001b[0m\u001b[1;33m.\u001b[0m\u001b[0mshift\u001b[0m\u001b[1;33m(\u001b[0m\u001b[1;33m)\u001b[0m\u001b[1;33m\u001b[0m\u001b[1;33m\u001b[0m\u001b[0m\n\u001b[0m\u001b[0;32m      2\u001b[0m \u001b[0mafg_gdp\u001b[0m \u001b[1;33m=\u001b[0m \u001b[0mafg_gdp\u001b[0m\u001b[1;33m.\u001b[0m\u001b[0mdropna\u001b[0m\u001b[1;33m(\u001b[0m\u001b[1;33m)\u001b[0m\u001b[1;33m\u001b[0m\u001b[1;33m\u001b[0m\u001b[0m\n\u001b[0;32m      3\u001b[0m \u001b[0mafg_gdp\u001b[0m\u001b[1;33m.\u001b[0m\u001b[0mhead\u001b[0m\u001b[1;33m(\u001b[0m\u001b[1;33m)\u001b[0m\u001b[1;33m\u001b[0m\u001b[1;33m\u001b[0m\u001b[0m\n",
      "\u001b[1;32m~\\AppData\\Local\\Programs\\Python\\Python311\\Lib\\site-packages\\pandas\\core\\frame.py\u001b[0m in \u001b[0;36m?\u001b[1;34m(self, key, value)\u001b[0m\n\u001b[0;32m   3936\u001b[0m             \u001b[0mself\u001b[0m\u001b[1;33m.\u001b[0m\u001b[0m_setitem_frame\u001b[0m\u001b[1;33m(\u001b[0m\u001b[0mkey\u001b[0m\u001b[1;33m,\u001b[0m \u001b[0mvalue\u001b[0m\u001b[1;33m)\u001b[0m\u001b[1;33m\u001b[0m\u001b[1;33m\u001b[0m\u001b[0m\n\u001b[0;32m   3937\u001b[0m         \u001b[1;32melif\u001b[0m \u001b[0misinstance\u001b[0m\u001b[1;33m(\u001b[0m\u001b[0mkey\u001b[0m\u001b[1;33m,\u001b[0m \u001b[1;33m(\u001b[0m\u001b[0mSeries\u001b[0m\u001b[1;33m,\u001b[0m \u001b[0mnp\u001b[0m\u001b[1;33m.\u001b[0m\u001b[0mndarray\u001b[0m\u001b[1;33m,\u001b[0m \u001b[0mlist\u001b[0m\u001b[1;33m,\u001b[0m \u001b[0mIndex\u001b[0m\u001b[1;33m)\u001b[0m\u001b[1;33m)\u001b[0m\u001b[1;33m:\u001b[0m\u001b[1;33m\u001b[0m\u001b[1;33m\u001b[0m\u001b[0m\n\u001b[0;32m   3938\u001b[0m             \u001b[0mself\u001b[0m\u001b[1;33m.\u001b[0m\u001b[0m_setitem_array\u001b[0m\u001b[1;33m(\u001b[0m\u001b[0mkey\u001b[0m\u001b[1;33m,\u001b[0m \u001b[0mvalue\u001b[0m\u001b[1;33m)\u001b[0m\u001b[1;33m\u001b[0m\u001b[1;33m\u001b[0m\u001b[0m\n\u001b[0;32m   3939\u001b[0m         \u001b[1;32melif\u001b[0m \u001b[0misinstance\u001b[0m\u001b[1;33m(\u001b[0m\u001b[0mvalue\u001b[0m\u001b[1;33m,\u001b[0m \u001b[0mDataFrame\u001b[0m\u001b[1;33m)\u001b[0m\u001b[1;33m:\u001b[0m\u001b[1;33m\u001b[0m\u001b[1;33m\u001b[0m\u001b[0m\n\u001b[1;32m-> 3940\u001b[1;33m             \u001b[0mself\u001b[0m\u001b[1;33m.\u001b[0m\u001b[0m_set_item_frame_value\u001b[0m\u001b[1;33m(\u001b[0m\u001b[0mkey\u001b[0m\u001b[1;33m,\u001b[0m \u001b[0mvalue\u001b[0m\u001b[1;33m)\u001b[0m\u001b[1;33m\u001b[0m\u001b[1;33m\u001b[0m\u001b[0m\n\u001b[0m\u001b[0;32m   3941\u001b[0m         elif (\n\u001b[0;32m   3942\u001b[0m             \u001b[0mis_list_like\u001b[0m\u001b[1;33m(\u001b[0m\u001b[0mvalue\u001b[0m\u001b[1;33m)\u001b[0m\u001b[1;33m\u001b[0m\u001b[1;33m\u001b[0m\u001b[0m\n\u001b[0;32m   3943\u001b[0m             \u001b[1;32mand\u001b[0m \u001b[1;32mnot\u001b[0m \u001b[0mself\u001b[0m\u001b[1;33m.\u001b[0m\u001b[0mcolumns\u001b[0m\u001b[1;33m.\u001b[0m\u001b[0mis_unique\u001b[0m\u001b[1;33m\u001b[0m\u001b[1;33m\u001b[0m\u001b[0m\n",
      "\u001b[1;32m~\\AppData\\Local\\Programs\\Python\\Python311\\Lib\\site-packages\\pandas\\core\\frame.py\u001b[0m in \u001b[0;36m?\u001b[1;34m(self, key, value)\u001b[0m\n\u001b[0;32m   4065\u001b[0m             \u001b[0mloc\u001b[0m \u001b[1;33m=\u001b[0m \u001b[0mself\u001b[0m\u001b[1;33m.\u001b[0m\u001b[0mcolumns\u001b[0m\u001b[1;33m.\u001b[0m\u001b[0mget_loc\u001b[0m\u001b[1;33m(\u001b[0m\u001b[0mkey\u001b[0m\u001b[1;33m)\u001b[0m\u001b[1;33m\u001b[0m\u001b[1;33m\u001b[0m\u001b[0m\n\u001b[0;32m   4066\u001b[0m             \u001b[0mcols\u001b[0m \u001b[1;33m=\u001b[0m \u001b[0mself\u001b[0m\u001b[1;33m.\u001b[0m\u001b[0mcolumns\u001b[0m\u001b[1;33m[\u001b[0m\u001b[0mloc\u001b[0m\u001b[1;33m]\u001b[0m\u001b[1;33m\u001b[0m\u001b[1;33m\u001b[0m\u001b[0m\n\u001b[0;32m   4067\u001b[0m             \u001b[0mlen_cols\u001b[0m \u001b[1;33m=\u001b[0m \u001b[1;36m1\u001b[0m \u001b[1;32mif\u001b[0m \u001b[0mis_scalar\u001b[0m\u001b[1;33m(\u001b[0m\u001b[0mcols\u001b[0m\u001b[1;33m)\u001b[0m \u001b[1;32mor\u001b[0m \u001b[0misinstance\u001b[0m\u001b[1;33m(\u001b[0m\u001b[0mcols\u001b[0m\u001b[1;33m,\u001b[0m \u001b[0mtuple\u001b[0m\u001b[1;33m)\u001b[0m \u001b[1;32melse\u001b[0m \u001b[0mlen\u001b[0m\u001b[1;33m(\u001b[0m\u001b[0mcols\u001b[0m\u001b[1;33m)\u001b[0m\u001b[1;33m\u001b[0m\u001b[1;33m\u001b[0m\u001b[0m\n\u001b[0;32m   4068\u001b[0m             \u001b[1;32mif\u001b[0m \u001b[0mlen_cols\u001b[0m \u001b[1;33m!=\u001b[0m \u001b[0mlen\u001b[0m\u001b[1;33m(\u001b[0m\u001b[0mvalue\u001b[0m\u001b[1;33m.\u001b[0m\u001b[0mcolumns\u001b[0m\u001b[1;33m)\u001b[0m\u001b[1;33m:\u001b[0m\u001b[1;33m\u001b[0m\u001b[1;33m\u001b[0m\u001b[0m\n\u001b[1;32m-> 4069\u001b[1;33m                 \u001b[1;32mraise\u001b[0m \u001b[0mValueError\u001b[0m\u001b[1;33m(\u001b[0m\u001b[1;34m\"Columns must be same length as key\"\u001b[0m\u001b[1;33m)\u001b[0m\u001b[1;33m\u001b[0m\u001b[1;33m\u001b[0m\u001b[0m\n\u001b[0m\u001b[0;32m   4070\u001b[0m \u001b[1;33m\u001b[0m\u001b[0m\n\u001b[0;32m   4071\u001b[0m             \u001b[1;31m# align right-hand-side columns if self.columns\u001b[0m\u001b[1;33m\u001b[0m\u001b[1;33m\u001b[0m\u001b[0m\n\u001b[0;32m   4072\u001b[0m             \u001b[1;31m# is multi-index and self[key] is a sub-frame\u001b[0m\u001b[1;33m\u001b[0m\u001b[1;33m\u001b[0m\u001b[0m\n",
      "\u001b[1;31mValueError\u001b[0m: Columns must be same length as key"
     ]
    }
   ],
   "source": [
    "afg_gdp[\"prev_log(GDP_current_US)\"] = afg_gdp.shift()\n",
    "afg_gdp = afg_gdp.dropna()\n",
    "afg_gdp.head()"
   ]
  },
  {
   "cell_type": "code",
   "execution_count": null,
   "id": "22c720ba-4711-44e7-b9ad-122e966ba8d6",
   "metadata": {},
   "outputs": [],
   "source": []
  }
 ],
 "metadata": {
  "kernelspec": {
   "display_name": "Python 3 (ipykernel)",
   "language": "python",
   "name": "python3"
  },
  "language_info": {
   "codemirror_mode": {
    "name": "ipython",
    "version": 3
   },
   "file_extension": ".py",
   "mimetype": "text/x-python",
   "name": "python",
   "nbconvert_exporter": "python",
   "pygments_lexer": "ipython3",
   "version": "3.11.4"
  }
 },
 "nbformat": 4,
 "nbformat_minor": 5
}
